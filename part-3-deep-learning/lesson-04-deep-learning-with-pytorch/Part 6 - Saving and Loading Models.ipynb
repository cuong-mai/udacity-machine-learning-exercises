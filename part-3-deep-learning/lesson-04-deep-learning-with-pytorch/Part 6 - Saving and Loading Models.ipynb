{
 "cells": [
  {
   "cell_type": "markdown",
   "metadata": {},
   "source": [
    "# Saving and Loading Models\n",
    "\n",
    "In this notebook, I'll show you how to save and load models with PyTorch. This is important because you'll often want to load previously trained models to use in making predictions or to continue training on new data."
   ]
  },
  {
   "cell_type": "code",
   "execution_count": 1,
   "metadata": {
    "pycharm": {
     "is_executing": false
    }
   },
   "outputs": [],
   "source": [
    "%matplotlib inline\n",
    "%config InlineBackend.figure_format = 'retina'\n",
    "\n",
    "import matplotlib.pyplot as plt\n",
    "\n",
    "import torch\n",
    "from torch import nn\n",
    "from torch import optim\n",
    "import torch.nn.functional as F\n",
    "from torchvision import datasets, transforms\n",
    "\n",
    "import helper\n",
    "import fc_model"
   ]
  },
  {
   "cell_type": "code",
   "execution_count": 15,
   "metadata": {
    "pycharm": {
     "is_executing": false
    }
   },
   "outputs": [],
   "source": [
    "# Define a transform to normalize the data\n",
    "transform = transforms.Compose([transforms.ToTensor(),\n",
    "                                transforms.Normalize((0.5,), (0.5,))])\n",
    "# Download and load the training data\n",
    "trainset = datasets.FashionMNIST('~/.pytorch/F_MNIST_data/', download=True, train=True, transform=transform)\n",
    "trainloader = torch.utils.data.DataLoader(trainset, batch_size=64, shuffle=True)\n",
    "\n",
    "# Download and load the test data\n",
    "testset = datasets.FashionMNIST('~/.pytorch/F_MNIST_data/', download=True, train=False, transform=transform)\n",
    "testloader = torch.utils.data.DataLoader(testset, batch_size=64, shuffle=True)"
   ]
  },
  {
   "cell_type": "markdown",
   "metadata": {},
   "source": [
    "Here we can see one of the images."
   ]
  },
  {
   "cell_type": "code",
   "execution_count": 16,
   "metadata": {
    "pycharm": {
     "is_executing": false
    }
   },
   "outputs": [
    {
     "data": {
      "text/plain": "<Figure size 432x288 with 1 Axes>",
      "image/png": "[encoded data removed]"
     },
     "metadata": {
      "image/png": {
       "width": 231,
       "height": 231
      },
      "needs_background": "light"
     },
     "output_type": "display_data"
    }
   ],
   "source": [
    "image, label = next(iter(trainloader))\n",
    "helper.imshow(image[0,:]);"
   ]
  },
  {
   "cell_type": "markdown",
   "metadata": {},
   "source": [
    "# Train a network\n",
    "\n",
    "To make things more concise here, I moved the model architecture and training code from the last part to a file called `fc_model`. Importing this, we can easily create a fully-connected network with `fc_model.Network`, and train the network using `fc_model.train`. I'll use this model (once it's trained) to demonstrate how we can save and load models."
   ]
  },
  {
   "cell_type": "code",
   "execution_count": 5,
   "metadata": {
    "pycharm": {
     "is_executing": false
    }
   },
   "outputs": [],
   "source": [
    "# Create the network, define the criterion and optimizer\n",
    "\n",
    "model = fc_model.Network(784, 10, [512, 256, 128])\n",
    "criterion = nn.NLLLoss()\n",
    "optimizer = optim.Adam(model.parameters(), lr=0.001)"
   ]
  },
  {
   "cell_type": "code",
   "execution_count": 6,
   "metadata": {
    "pycharm": {
     "is_executing": false
    }
   },
   "outputs": [
    {
     "name": "stdout",
     "text": [
      "Epoch: 1/2.. ",
      " ",
      "Training Loss: 1.722.. ",
      " ",
      "Test Loss: 0.990.. ",
      " ",
      "Test Accuracy: 0.656",
      "\n",
      "Epoch: 1/2.. ",
      " ",
      "Training Loss: 1.047.. ",
      " ",
      "Test Loss: 0.755.. ",
      " ",
      "Test Accuracy: 0.719",
      "\n",
      "Epoch: 1/2.. ",
      " ",
      "Training Loss: 0.851.. ",
      " ",
      "Test Loss: 0.686.. ",
      " ",
      "Test Accuracy: 0.741",
      "\n",
      "Epoch: 1/2.. ",
      " ",
      "Training Loss: 0.790.. ",
      " ",
      "Test Loss: 0.635.. ",
      " ",
      "Test Accuracy: 0.760",
      "\n",
      "Epoch: 1/2.. ",
      " ",
      "Training Loss: 0.718.. ",
      " ",
      "Test Loss: 0.622.. ",
      " ",
      "Test Accuracy: 0.759",
      "\n",
      "Epoch: 1/2.. ",
      " ",
      "Training Loss: 0.695.. ",
      " ",
      "Test Loss: 0.589.. ",
      " ",
      "Test Accuracy: 0.769",
      "\n",
      "Epoch: 1/2.. ",
      " ",
      "Training Loss: 0.711.. ",
      " ",
      "Test Loss: 0.588.. ",
      " ",
      "Test Accuracy: 0.776",
      "\n",
      "Epoch: 1/2.. ",
      " ",
      "Training Loss: 0.709.. ",
      " ",
      "Test Loss: 0.592.. ",
      " ",
      "Test Accuracy: 0.779",
      "\n",
      "Epoch: 1/2.. ",
      " ",
      "Training Loss: 0.655.. ",
      " ",
      "Test Loss: 0.556.. ",
      " ",
      "Test Accuracy: 0.795",
      "\n",
      "Epoch: 1/2.. ",
      " ",
      "Training Loss: 0.639.. ",
      " ",
      "Test Loss: 0.549.. ",
      " ",
      "Test Accuracy: 0.795",
      "\n",
      "Epoch: 1/2.. ",
      " ",
      "Training Loss: 0.658.. ",
      " ",
      "Test Loss: 0.558.. ",
      " ",
      "Test Accuracy: 0.788",
      "\n",
      "Epoch: 1/2.. ",
      " ",
      "Training Loss: 0.622.. ",
      " ",
      "Test Loss: 0.546.. ",
      " ",
      "Test Accuracy: 0.799",
      "\n",
      "Epoch: 1/2.. ",
      " ",
      "Training Loss: 0.619.. ",
      " ",
      "Test Loss: 0.525.. ",
      " ",
      "Test Accuracy: 0.806",
      "\n",
      "Epoch: 1/2.. ",
      " ",
      "Training Loss: 0.571.. ",
      " ",
      "Test Loss: 0.519.. ",
      " ",
      "Test Accuracy: 0.811",
      "\n",
      "Epoch: 1/2.. ",
      " ",
      "Training Loss: 0.619.. ",
      " ",
      "Test Loss: 0.529.. ",
      " ",
      "Test Accuracy: 0.806",
      "\n",
      "Epoch: 1/2.. ",
      " ",
      "Training Loss: 0.617.. ",
      " ",
      "Test Loss: 0.522.. ",
      " ",
      "Test Accuracy: 0.802",
      "\n",
      "Epoch: 1/2.. ",
      " ",
      "Training Loss: 0.584.. ",
      " ",
      "Test Loss: 0.511.. ",
      " ",
      "Test Accuracy: 0.815",
      "\n",
      "Epoch: 1/2.. ",
      " ",
      "Training Loss: 0.587.. ",
      " ",
      "Test Loss: 0.493.. ",
      " ",
      "Test Accuracy: 0.814",
      "\n",
      "Epoch: 1/2.. ",
      " ",
      "Training Loss: 0.576.. ",
      " ",
      "Test Loss: 0.480.. ",
      " ",
      "Test Accuracy: 0.822",
      "\n",
      "Epoch: 1/2.. ",
      " ",
      "Training Loss: 0.574.. ",
      " ",
      "Test Loss: 0.488.. ",
      " ",
      "Test Accuracy: 0.814",
      "\n",
      "Epoch: 1/2.. ",
      " ",
      "Training Loss: 0.562.. ",
      " ",
      "Test Loss: 0.489.. ",
      " ",
      "Test Accuracy: 0.822",
      "\n",
      "Epoch: 1/2.. ",
      " ",
      "Training Loss: 0.574.. ",
      " ",
      "Test Loss: 0.498.. ",
      " ",
      "Test Accuracy: 0.819",
      "\n",
      "Epoch: 1/2.. ",
      " ",
      "Training Loss: 0.565.. ",
      " ",
      "Test Loss: 0.490.. ",
      " ",
      "Test Accuracy: 0.822",
      "\n",
      "Epoch: 2/2.. ",
      " ",
      "Training Loss: 0.570.. ",
      " ",
      "Test Loss: 0.470.. ",
      " ",
      "Test Accuracy: 0.829",
      "\n",
      "Epoch: 2/2.. ",
      " ",
      "Training Loss: 0.578.. ",
      " ",
      "Test Loss: 0.493.. ",
      " ",
      "Test Accuracy: 0.822",
      "\n",
      "Epoch: 2/2.. ",
      " ",
      "Training Loss: 0.564.. ",
      " ",
      "Test Loss: 0.481.. ",
      " ",
      "Test Accuracy: 0.829",
      "\n",
      "Epoch: 2/2.. ",
      " ",
      "Training Loss: 0.566.. ",
      " ",
      "Test Loss: 0.481.. ",
      " ",
      "Test Accuracy: 0.820",
      "\n",
      "Epoch: 2/2.. ",
      " ",
      "Training Loss: 0.567.. ",
      " ",
      "Test Loss: 0.467.. ",
      " ",
      "Test Accuracy: 0.827",
      "\n",
      "Epoch: 2/2.. ",
      " ",
      "Training Loss: 0.543.. ",
      " ",
      "Test Loss: 0.473.. ",
      " ",
      "Test Accuracy: 0.833",
      "\n",
      "Epoch: 2/2.. ",
      " ",
      "Training Loss: 0.544.. ",
      " ",
      "Test Loss: 0.460.. ",
      " ",
      "Test Accuracy: 0.833",
      "\n",
      "Epoch: 2/2.. ",
      " ",
      "Training Loss: 0.529.. ",
      " ",
      "Test Loss: 0.464.. ",
      " ",
      "Test Accuracy: 0.836",
      "\n",
      "Epoch: 2/2.. ",
      " ",
      "Training Loss: 0.501.. ",
      " ",
      "Test Loss: 0.459.. ",
      " ",
      "Test Accuracy: 0.833",
      "\n",
      "Epoch: 2/2.. ",
      " ",
      "Training Loss: 0.530.. ",
      " ",
      "Test Loss: 0.463.. ",
      " ",
      "Test Accuracy: 0.824",
      "\n",
      "Epoch: 2/2.. ",
      " ",
      "Training Loss: 0.523.. ",
      " ",
      "Test Loss: 0.465.. ",
      " ",
      "Test Accuracy: 0.827",
      "\n",
      "Epoch: 2/2.. ",
      " ",
      "Training Loss: 0.548.. ",
      " ",
      "Test Loss: 0.454.. ",
      " ",
      "Test Accuracy: 0.837",
      "\n",
      "Epoch: 2/2.. ",
      " ",
      "Training Loss: 0.521.. ",
      " ",
      "Test Loss: 0.455.. ",
      " ",
      "Test Accuracy: 0.836",
      "\n",
      "Epoch: 2/2.. ",
      " ",
      "Training Loss: 0.537.. ",
      " ",
      "Test Loss: 0.462.. ",
      " ",
      "Test Accuracy: 0.835",
      "\n",
      "Epoch: 2/2.. ",
      " ",
      "Training Loss: 0.554.. ",
      " ",
      "Test Loss: 0.462.. ",
      " ",
      "Test Accuracy: 0.837",
      "\n",
      "Epoch: 2/2.. ",
      " ",
      "Training Loss: 0.516.. ",
      " ",
      "Test Loss: 0.460.. ",
      " ",
      "Test Accuracy: 0.831",
      "\n",
      "Epoch: 2/2.. ",
      " ",
      "Training Loss: 0.527.. ",
      " ",
      "Test Loss: 0.444.. ",
      " ",
      "Test Accuracy: 0.838",
      "\n",
      "Epoch: 2/2.. ",
      " ",
      "Training Loss: 0.528.. ",
      " ",
      "Test Loss: 0.440.. ",
      " ",
      "Test Accuracy: 0.842",
      "\n",
      "Epoch: 2/2.. ",
      " ",
      "Training Loss: 0.515.. ",
      " ",
      "Test Loss: 0.463.. ",
      " ",
      "Test Accuracy: 0.834",
      "\n",
      "Epoch: 2/2.. ",
      " ",
      "Training Loss: 0.541.. ",
      " ",
      "Test Loss: 0.450.. ",
      " ",
      "Test Accuracy: 0.830",
      "\n",
      "Epoch: 2/2.. ",
      " ",
      "Training Loss: 0.528.. ",
      " ",
      "Test Loss: 0.460.. ",
      " ",
      "Test Accuracy: 0.831",
      "\n",
      "Epoch: 2/2.. ",
      " ",
      "Training Loss: 0.516.. ",
      " ",
      "Test Loss: 0.441.. ",
      " ",
      "Test Accuracy: 0.842",
      "\n",
      "Epoch: 2/2.. ",
      " ",
      "Training Loss: 0.518.. ",
      " ",
      "Test Loss: 0.442.. ",
      " ",
      "Test Accuracy: 0.838",
      "\n"
     ],
     "output_type": "stream"
    }
   ],
   "source": [
    "fc_model.train(model, trainloader, testloader, criterion, optimizer, epochs=2)"
   ]
  },
  {
   "cell_type": "markdown",
   "metadata": {},
   "source": [
    "## Saving and loading networks\n",
    "\n",
    "As you can imagine, it's impractical to train a network every time you need to use it. Instead, we can save trained networks then load them later to train more or use them for predictions.\n",
    "\n",
    "The parameters for PyTorch networks are stored in a model's `state_dict`. We can see the state dict contains the weight and bias matrices for each of our layers."
   ]
  },
  {
   "cell_type": "code",
   "execution_count": 7,
   "metadata": {
    "pycharm": {
     "is_executing": false
    }
   },
   "outputs": [
    {
     "name": "stdout",
     "text": [
      "Our model: \n\n",
      " ",
      "Network(\n  (hidden_layers): ModuleList(\n    (0): Linear(in_features=784, out_features=512, bias=True)\n    (1): Linear(in_features=512, out_features=256, bias=True)\n    (2): Linear(in_features=256, out_features=128, bias=True)\n  )\n  (output): Linear(in_features=128, out_features=10, bias=True)\n  (dropout): Dropout(p=0.5, inplace=False)\n)",
      " ",
      "\n",
      "\n",
      "The state dict keys: \n\n",
      " ",
      "odict_keys(['hidden_layers.0.weight', 'hidden_layers.0.bias', 'hidden_layers.1.weight', 'hidden_layers.1.bias', 'hidden_layers.2.weight', 'hidden_layers.2.bias', 'output.weight', 'output.bias'])",
      "\n"
     ],
     "output_type": "stream"
    }
   ],
   "source": [
    "print(\"Our model: \\n\\n\", model, '\\n')\n",
    "print(\"The state dict keys: \\n\\n\", model.state_dict().keys())"
   ]
  },
  {
   "cell_type": "markdown",
   "metadata": {},
   "source": [
    "The simplest thing to do is simply save the state dict with `torch.save`. For example, we can save it to a file `'checkpoint.pth'`."
   ]
  },
  {
   "cell_type": "code",
   "execution_count": 8,
   "metadata": {
    "pycharm": {
     "is_executing": false
    }
   },
   "outputs": [],
   "source": [
    "torch.save(model.state_dict(), 'checkpoint.pth')"
   ]
  },
  {
   "cell_type": "markdown",
   "metadata": {},
   "source": [
    "Then we can load the state dict with `torch.load`."
   ]
  },
  {
   "cell_type": "code",
   "execution_count": 9,
   "metadata": {
    "pycharm": {
     "is_executing": false
    }
   },
   "outputs": [
    {
     "name": "stdout",
     "text": [
      "odict_keys(['hidden_layers.0.weight', 'hidden_layers.0.bias', 'hidden_layers.1.weight', 'hidden_layers.1.bias', 'hidden_layers.2.weight', 'hidden_layers.2.bias', 'output.weight', 'output.bias'])",
      "\n"
     ],
     "output_type": "stream"
    }
   ],
   "source": [
    "state_dict = torch.load('checkpoint.pth')\n",
    "print(state_dict.keys())"
   ]
  },
  {
   "cell_type": "markdown",
   "metadata": {},
   "source": [
    "And to load the state dict in to the network, you do `model.load_state_dict(state_dict)`."
   ]
  },
  {
   "cell_type": "code",
   "execution_count": 10,
   "metadata": {
    "pycharm": {
     "is_executing": false
    }
   },
   "outputs": [
    {
     "data": {
      "text/plain": "<All keys matched successfully>"
     },
     "metadata": {},
     "output_type": "execute_result",
     "execution_count": 10
    }
   ],
   "source": [
    "model.load_state_dict(state_dict)"
   ]
  },
  {
   "cell_type": "markdown",
   "metadata": {},
   "source": [
    "Seems pretty straightforward, but as usual it's a bit more complicated. Loading the state dict works only if the model architecture is exactly the same as the checkpoint architecture. If I create a model with a different architecture, this fails."
   ]
  },
  {
   "cell_type": "code",
   "execution_count": 11,
   "metadata": {
    "pycharm": {
     "is_executing": false
    }
   },
   "outputs": [
    {
     "traceback": [
      "\u001b[1;31m---------------------------------------------------------------------------\u001b[0m",
      "\u001b[1;31mRuntimeError\u001b[0m                              Traceback (most recent call last)",
      "\u001b[1;32m<ipython-input-11-34d17d163869>\u001b[0m in \u001b[0;36m<module>\u001b[1;34m\u001b[0m\n\u001b[0;32m      2\u001b[0m \u001b[0mmodel\u001b[0m \u001b[1;33m=\u001b[0m \u001b[0mfc_model\u001b[0m\u001b[1;33m.\u001b[0m\u001b[0mNetwork\u001b[0m\u001b[1;33m(\u001b[0m\u001b[1;36m784\u001b[0m\u001b[1;33m,\u001b[0m \u001b[1;36m10\u001b[0m\u001b[1;33m,\u001b[0m \u001b[1;33m[\u001b[0m\u001b[1;36m400\u001b[0m\u001b[1;33m,\u001b[0m \u001b[1;36m200\u001b[0m\u001b[1;33m,\u001b[0m \u001b[1;36m100\u001b[0m\u001b[1;33m]\u001b[0m\u001b[1;33m)\u001b[0m\u001b[1;33m\u001b[0m\u001b[1;33m\u001b[0m\u001b[0m\n\u001b[0;32m      3\u001b[0m \u001b[1;31m# This will throw an error because the tensor sizes are wrong!\u001b[0m\u001b[1;33m\u001b[0m\u001b[1;33m\u001b[0m\u001b[1;33m\u001b[0m\u001b[0m\n\u001b[1;32m----> 4\u001b[1;33m \u001b[0mmodel\u001b[0m\u001b[1;33m.\u001b[0m\u001b[0mload_state_dict\u001b[0m\u001b[1;33m(\u001b[0m\u001b[0mstate_dict\u001b[0m\u001b[1;33m)\u001b[0m\u001b[1;33m\u001b[0m\u001b[1;33m\u001b[0m\u001b[0m\n\u001b[0m\u001b[0;32m      5\u001b[0m \u001b[1;33m\u001b[0m\u001b[0m\n",
      "\u001b[1;32m~programs\\anaconda3\\lib\\site-packages\\torch\\nn\\modules\\module.py\u001b[0m in \u001b[0;36mload_state_dict\u001b[1;34m(self, state_dict, strict)\u001b[0m\n\u001b[0;32m    843\u001b[0m         \u001b[1;32mif\u001b[0m \u001b[0mlen\u001b[0m\u001b[1;33m(\u001b[0m\u001b[0merror_msgs\u001b[0m\u001b[1;33m)\u001b[0m \u001b[1;33m>\u001b[0m \u001b[1;36m0\u001b[0m\u001b[1;33m:\u001b[0m\u001b[1;33m\u001b[0m\u001b[1;33m\u001b[0m\u001b[0m\n\u001b[0;32m    844\u001b[0m             raise RuntimeError('Error(s) in loading state_dict for {}:\\n\\t{}'.format(\n\u001b[1;32m--> 845\u001b[1;33m                                self.__class__.__name__, \"\\n\\t\".join(error_msgs)))\n\u001b[0m\u001b[0;32m    846\u001b[0m         \u001b[1;32mreturn\u001b[0m \u001b[0m_IncompatibleKeys\u001b[0m\u001b[1;33m(\u001b[0m\u001b[0mmissing_keys\u001b[0m\u001b[1;33m,\u001b[0m \u001b[0munexpected_keys\u001b[0m\u001b[1;33m)\u001b[0m\u001b[1;33m\u001b[0m\u001b[1;33m\u001b[0m\u001b[0m\n\u001b[0;32m    847\u001b[0m \u001b[1;33m\u001b[0m\u001b[0m\n",
      "\u001b[1;31mRuntimeError\u001b[0m: Error(s) in loading state_dict for Network:\n\tsize mismatch for hidden_layers.0.weight: copying a param with shape torch.Size([512, 784]) from checkpoint, the shape in current model is torch.Size([400, 784]).\n\tsize mismatch for hidden_layers.0.bias: copying a param with shape torch.Size([512]) from checkpoint, the shape in current model is torch.Size([400]).\n\tsize mismatch for hidden_layers.1.weight: copying a param with shape torch.Size([256, 512]) from checkpoint, the shape in current model is torch.Size([200, 400]).\n\tsize mismatch for hidden_layers.1.bias: copying a param with shape torch.Size([256]) from checkpoint, the shape in current model is torch.Size([200]).\n\tsize mismatch for hidden_layers.2.weight: copying a param with shape torch.Size([128, 256]) from checkpoint, the shape in current model is torch.Size([100, 200]).\n\tsize mismatch for hidden_layers.2.bias: copying a param with shape torch.Size([128]) from checkpoint, the shape in current model is torch.Size([100]).\n\tsize mismatch for output.weight: copying a param with shape torch.Size([10, 128]) from checkpoint, the shape in current model is torch.Size([10, 100])."
     ],
     "ename": "RuntimeError",
     "evalue": "Error(s) in loading state_dict for Network:\n\tsize mismatch for hidden_layers.0.weight: copying a param with shape torch.Size([512, 784]) from checkpoint, the shape in current model is torch.Size([400, 784]).\n\tsize mismatch for hidden_layers.0.bias: copying a param with shape torch.Size([512]) from checkpoint, the shape in current model is torch.Size([400]).\n\tsize mismatch for hidden_layers.1.weight: copying a param with shape torch.Size([256, 512]) from checkpoint, the shape in current model is torch.Size([200, 400]).\n\tsize mismatch for hidden_layers.1.bias: copying a param with shape torch.Size([256]) from checkpoint, the shape in current model is torch.Size([200]).\n\tsize mismatch for hidden_layers.2.weight: copying a param with shape torch.Size([128, 256]) from checkpoint, the shape in current model is torch.Size([100, 200]).\n\tsize mismatch for hidden_layers.2.bias: copying a param with shape torch.Size([128]) from checkpoint, the shape in current model is torch.Size([100]).\n\tsize mismatch for output.weight: copying a param with shape torch.Size([10, 128]) from checkpoint, the shape in current model is torch.Size([10, 100]).",
     "output_type": "error"
    }
   ],
   "source": [
    "# Try this\n",
    "model = fc_model.Network(784, 10, [400, 200, 100])\n",
    "# This will throw an error because the tensor sizes are wrong!\n",
    "model.load_state_dict(state_dict)"
   ]
  },
  {
   "cell_type": "markdown",
   "metadata": {},
   "source": [
    "This means we need to rebuild the model exactly as it was when trained. Information about the model architecture needs to be saved in the checkpoint, along with the state dict. To do this, you build a dictionary with all the information you need to compeletely rebuild the model."
   ]
  },
  {
   "cell_type": "code",
   "execution_count": 12,
   "metadata": {
    "pycharm": {
     "is_executing": false
    }
   },
   "outputs": [],
   "source": [
    "checkpoint = {'input_size': 784,\n",
    "              'output_size': 10,\n",
    "              'hidden_layers': [each.out_features for each in model.hidden_layers],\n",
    "              'state_dict': model.state_dict()}\n",
    "\n",
    "torch.save(checkpoint, 'checkpoint.pth')"
   ]
  },
  {
   "cell_type": "markdown",
   "metadata": {},
   "source": [
    "Now the checkpoint has all the necessary information to rebuild the trained model. You can easily make that a function if you want. Similarly, we can write a function to load checkpoints. "
   ]
  },
  {
   "cell_type": "code",
   "execution_count": 13,
   "metadata": {
    "pycharm": {
     "is_executing": false
    }
   },
   "outputs": [],
   "source": [
    "def load_checkpoint(filepath):\n",
    "    checkpoint = torch.load(filepath)\n",
    "    model = fc_model.Network(checkpoint['input_size'],\n",
    "                             checkpoint['output_size'],\n",
    "                             checkpoint['hidden_layers'])\n",
    "    model.load_state_dict(checkpoint['state_dict'])\n",
    "    \n",
    "    return model"
   ]
  },
  {
   "cell_type": "code",
   "execution_count": 14,
   "metadata": {
    "pycharm": {
     "is_executing": false
    }
   },
   "outputs": [
    {
     "name": "stdout",
     "text": [
      "Network(\n  (hidden_layers): ModuleList(\n    (0): Linear(in_features=784, out_features=400, bias=True)\n    (1): Linear(in_features=400, out_features=200, bias=True)\n    (2): Linear(in_features=200, out_features=100, bias=True)\n  )\n  (output): Linear(in_features=100, out_features=10, bias=True)\n  (dropout): Dropout(p=0.5, inplace=False)\n)",
      "\n"
     ],
     "output_type": "stream"
    }
   ],
   "source": [
    "model = load_checkpoint('checkpoint.pth')\n",
    "print(model)"
   ]
  }
 ],
 "metadata": {
  "kernelspec": {
   "display_name": "Python 3",
   "language": "python",
   "name": "python3"
  },
  "language_info": {
   "codemirror_mode": {
    "name": "ipython",
    "version": 3
   },
   "file_extension": ".py",
   "mimetype": "text/x-python",
   "name": "python",
   "nbconvert_exporter": "python",
   "pygments_lexer": "ipython3",
   "version": "3.6.6"
  },
  "pycharm": {
   "stem_cell": {
    "cell_type": "raw",
    "source": [],
    "metadata": {
     "collapsed": false
    }
   }
  }
 },
 "nbformat": 4,
 "nbformat_minor": 2
}
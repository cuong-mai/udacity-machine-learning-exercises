{
 "cells": [
  {
   "cell_type": "markdown",
   "metadata": {},
   "source": [
    "# Transfer Learning\n",
    "\n",
    "In this notebook, you'll learn how to use pre-trained networks to solved challenging problems in computer vision. Specifically, you'll use networks trained on [ImageNet](http://www.image-net.org/) [available from torchvision](http://pytorch.org/docs/0.3.0/torchvision/models.html). \n",
    "\n",
    "ImageNet is a massive dataset with over 1 million labeled images in 1000 categories. It's used to train deep neural networks using an architecture called convolutional layers. I'm not going to get into the details of convolutional networks here, but if you want to learn more about them, please [watch this](https://www.youtube.com/watch?v=2-Ol7ZB0MmU).\n",
    "\n",
    "Once trained, these models work astonishingly well as feature detectors for images they weren't trained on. Using a pre-trained network on images not in the training set is called transfer learning. Here we'll use transfer learning to train a network that can classify our cat and dog photos with near perfect accuracy.\n",
    "\n",
    "With `torchvision.models` you can download these pre-trained networks and use them in your applications. We'll include `models` in our imports now."
   ]
  },
  {
   "cell_type": "code",
   "execution_count": 1,
   "metadata": {
    "pycharm": {
     "is_executing": false
    }
   },
   "outputs": [],
   "source": [
    "%matplotlib inline\n",
    "%config InlineBackend.figure_format = 'retina'\n",
    "\n",
    "import matplotlib.pyplot as plt\n",
    "\n",
    "import torch\n",
    "from torch import nn\n",
    "from torch import optim\n",
    "import torch.nn.functional as F\n",
    "from torchvision import datasets, transforms, models"
   ]
  },
  {
   "cell_type": "markdown",
   "metadata": {},
   "source": [
    "Most of the pretrained models require the input to be 224x224 images. Also, we'll need to match the normalization used when the models were trained. Each color channel was normalized separately, the means are `[0.485, 0.456, 0.406]` and the standard deviations are `[0.229, 0.224, 0.225]`."
   ]
  },
  {
   "cell_type": "code",
   "execution_count": 2,
   "metadata": {
    "pycharm": {
     "is_executing": false
    }
   },
   "outputs": [],
   "source": [
    "data_dir = '~/.pytorch/cat_dog_data'\n",
    "\n",
    "# TODO: Define transforms for the training data and testing data - DONE\n",
    "train_transforms = transforms.Compose([transforms.RandomRotation(30),\n",
    "                                       transforms.RandomResizedCrop(224),\n",
    "                                       transforms.RandomHorizontalFlip(),\n",
    "                                       transforms.ToTensor(),\n",
    "                                       transforms.Normalize([0.485, 0.456, 0.406],\n",
    "                                                            [0.229, 0.224, 0.225])])\n",
    "\n",
    "test_transforms = transforms.Compose([transforms.Resize(255),\n",
    "                                      transforms.CenterCrop(224),\n",
    "                                      transforms.ToTensor(),\n",
    "                                      transforms.Normalize([0.485, 0.456, 0.406],\n",
    "                                                           [0.229, 0.224, 0.225])])\n",
    "\n",
    "# Pass transforms in here, then run the next cell to see how the transforms look\n",
    "train_data = datasets.ImageFolder(data_dir + '/train', transform=train_transforms)\n",
    "test_data = datasets.ImageFolder(data_dir + '/test', transform=test_transforms)\n",
    "\n",
    "trainloader = torch.utils.data.DataLoader(train_data, batch_size=64, shuffle=True)\n",
    "testloader = torch.utils.data.DataLoader(test_data, batch_size=64)"
   ]
  },
  {
   "cell_type": "markdown",
   "metadata": {},
   "source": [
    "We can load in a model such as [DenseNet](http://pytorch.org/docs/0.3.0/torchvision/models.html#id5). Let's print out the model architecture so we can see what's going on."
   ]
  },
  {
   "cell_type": "code",
   "execution_count": null,
   "metadata": {
    "scrolled": true,
    "pycharm": {
     "is_executing": false
    }
   },
   "outputs": [],
   "source": [
    "model = models.densenet121(pretrained=True)\n",
    "model"
   ]
  },
  {
   "cell_type": "markdown",
   "metadata": {},
   "source": [
    "This model is built out of two main parts, the features and the classifier. The features part is a stack of convolutional layers and overall works as a feature detector that can be fed into a classifier. The classifier part is a single fully-connected layer `(classifier): Linear(in_features=1024, out_features=1000)`. This layer was trained on the ImageNet dataset, so it won't work for our specific problem. That means we need to replace the classifier, but the features will work perfectly on their own. In general, I think about pre-trained networks as amazingly good feature detectors that can be used as the input for simple feed-forward classifiers."
   ]
  },
  {
   "cell_type": "code",
   "execution_count": null,
   "metadata": {
    "pycharm": {
     "is_executing": false
    }
   },
   "outputs": [],
   "source": [
    "# Freeze parameters so we don't backprop through them\n",
    "for param in model.parameters():\n",
    "    param.requires_grad = False\n",
    "\n",
    "from collections import OrderedDict\n",
    "classifier = nn.Sequential(OrderedDict([\n",
    "                          ('fc1', nn.Linear(1024, 500)),\n",
    "                          ('relu', nn.ReLU()),\n",
    "                          ('fc2', nn.Linear(500, 2)),\n",
    "                          ('output', nn.LogSoftmax(dim=1))\n",
    "                          ]))\n",
    "    \n",
    "model.classifier = classifier"
   ]
  },
  {
   "cell_type": "markdown",
   "metadata": {},
   "source": [
    "With our model built, we need to train the classifier. However, now we're using a **really deep** neural network. If you try to train this on a CPU like normal, it will take a long, long time. Instead, we're going to use the GPU to do the calculations. The linear algebra computations are done in parallel on the GPU leading to 100x increased training speeds. It's also possible to train on multiple GPUs, further decreasing training time.\n",
    "\n",
    "PyTorch, along with pretty much every other deep learning framework, uses [CUDA](https://developer.nvidia.com/cuda-zone) to efficiently compute the forward and backwards passes on the GPU. In PyTorch, you move your model parameters and other tensors to the GPU memory using `model.to('cuda')`. You can move them back from the GPU with `model.to('cpu')` which you'll commonly do when you need to operate on the network output outside of PyTorch. As a demonstration of the increased speed, I'll compare how long it takes to perform a forward and backward pass with and without a GPU."
   ]
  },
  {
   "cell_type": "code",
   "execution_count": null,
   "metadata": {
    "pycharm": {
     "is_executing": false
    }
   },
   "outputs": [],
   "source": [
    "import time"
   ]
  },
  {
   "cell_type": "code",
   "execution_count": null,
   "metadata": {
    "pycharm": {
     "is_executing": false
    }
   },
   "outputs": [],
   "source": [
    "# for device in ['cuda', 'cpu']:\n",
    "# for device in ['cpu']:\n",
    "for device in ['cuda']:\n",
    "\n",
    "    criterion = nn.NLLLoss()\n",
    "    # Only train the classifier parameters, feature parameters are frozen\n",
    "    optimizer = optim.Adam(model.classifier.parameters(), lr=0.001)\n",
    "\n",
    "    model.to(device)\n",
    "\n",
    "    for ii, (inputs, labels) in enumerate(trainloader):\n",
    "\n",
    "        # Move input and label tensors to the GPU\n",
    "        inputs, labels = inputs.to(device), labels.to(device)\n",
    "\n",
    "        start = time.time()\n",
    "\n",
    "        outputs = model.forward(inputs)\n",
    "        loss = criterion(outputs, labels)\n",
    "        loss.backward()\n",
    "        optimizer.step()\n",
    "\n",
    "        if ii==3:\n",
    "            break\n",
    "        \n",
    "    print(f\"Device = {device}; Time per batch: {(time.time() - start)/3:.3f} seconds\")"
   ]
  },
  {
   "cell_type": "markdown",
   "metadata": {
    "pycharm": {
     "name": "#%% md\n"
    }
   },
   "source": [
    "You can write device agnostic code which will automatically use CUDA if it's enabled like so:\n",
    "```python\n",
    "# at beginning of the script\n",
    "device = torch.device(\"cuda:0\" if torch.cuda.is_available() else \"cpu\")\n",
    "\n",
    "...\n",
    "\n",
    "# then whenever you get a new Tensor or Module\n",
    "# this won't copy if they are already on the desired device\n",
    "input = data.to(device)\n",
    "model = MyModule(...).to(device)\n",
    "```\n",
    "\n",
    "From here, I'll let you finish training the model. The process is the same as before except now your model is much more powerful. You should get better than 95% accuracy easily.\n",
    "\n",
    ">**Exercise:** Train a pretrained models to classify the cat and dog images. Continue with the DenseNet model, or try ResNet, it's also a good model to try out first. Make sure you are only training the classifier and the parameters for the features part are frozen."
   ]
  },
  {
   "cell_type": "code",
   "execution_count": null,
   "outputs": [],
   "source": [
    "## TODO: Use a pretrained model to classify the cat and dog images - DPME\n",
    "\n",
    "device = torch.device('cuda' if torch.cuda.is_available() else 'cpu')\n",
    "device"
   ],
   "metadata": {
    "collapsed": false,
    "pycharm": {
     "name": "#%%\n"
    }
   }
  },
  {
   "cell_type": "code",
   "execution_count": null,
   "outputs": [],
   "source": [
    "model = models.resnet50(pretrained=True)\n",
    "model"
   ],
   "metadata": {
    "collapsed": false,
    "pycharm": {
     "name": "#%%\n"
    }
   }
  },
  {
   "cell_type": "code",
   "execution_count": 4,
   "outputs": [],
   "source": [
    "for param in model.parameters():\n",
    "    param.requires_grad = False\n",
    "    "
   ],
   "metadata": {
    "collapsed": false,
    "pycharm": {
     "name": "#%%\n",
     "is_executing": false
    }
   }
  },
  {
   "cell_type": "code",
   "execution_count": 8,
   "outputs": [],
   "source": [
    "classifier = nn.Sequential(\n",
    "    nn.Linear(2048, 512),\n",
    "    nn.ReLU(),\n",
    "    nn.Dropout(p=0.2),\n",
    "    nn.Linear(512, 2),\n",
    "    nn.LogSoftmax(dim=1)\n",
    ")"
   ],
   "metadata": {
    "collapsed": false,
    "pycharm": {
     "name": "#%%\n",
     "is_executing": false
    }
   }
  },
  {
   "cell_type": "code",
   "execution_count": 11,
   "outputs": [
    {
     "data": {
      "text/plain": "device(type='cuda')"
     },
     "metadata": {},
     "output_type": "execute_result",
     "execution_count": 11
    }
   ],
   "source": [
    "model.fc = classifier\n",
    "model\n",
    "\n",
    "criterion = nn.NLLLoss()\n",
    "optimizer = optim.Adam(model.fc.parameters(), lr=0.003)\n",
    "\n",
    "model.to(device)"
   ],
   "metadata": {
    "collapsed": false,
    "pycharm": {
     "name": "#%%\n",
     "is_executing": false
    }
   }
  },
  {
   "cell_type": "code",
   "execution_count": 16,
   "outputs": [
    {
     "name": "stdout",
     "text": [
      "Epoch 1/1.. Train loss: 0.166.. Test loss: 0.066.. Test accuracy: 0.973",
      "\n",
      "Epoch 1/1.. Train loss: 0.138.. Test loss: 0.058.. Test accuracy: 0.977",
      "\n",
      "Epoch 1/1.. Train loss: 0.185.. Test loss: 0.057.. Test accuracy: 0.979",
      "\n",
      "Epoch 1/1.. Train loss: 0.200.. Test loss: 0.056.. Test accuracy: 0.980",
      "\n",
      "Epoch 1/1.. Train loss: 0.174.. Test loss: 0.055.. Test accuracy: 0.981",
      "\n",
      "Epoch 1/1.. Train loss: 0.176.. Test loss: 0.057.. Test accuracy: 0.980",
      "\n",
      "Epoch 1/1.. Train loss: 0.233.. Test loss: 0.069.. Test accuracy: 0.974",
      "\n",
      "Epoch 1/1.. Train loss: 0.218.. Test loss: 0.099.. Test accuracy: 0.960",
      "\n",
      "Epoch 1/1.. Train loss: 0.195.. Test loss: 0.061.. Test accuracy: 0.977",
      "\n",
      "Epoch 1/1.. Train loss: 0.259.. Test loss: 0.081.. Test accuracy: 0.965",
      "\n",
      "Epoch 1/1.. Train loss: 0.234.. Test loss: 0.064.. Test accuracy: 0.979",
      "\n",
      "Epoch 1/1.. Train loss: 0.152.. Test loss: 0.068.. Test accuracy: 0.973",
      "\n",
      "Epoch 1/1.. Train loss: 0.164.. Test loss: 0.050.. Test accuracy: 0.982",
      "\n",
      "Epoch 1/1.. Train loss: 0.148.. Test loss: 0.048.. Test accuracy: 0.983",
      "\n",
      "Epoch 1/1.. Train loss: 0.131.. Test loss: 0.075.. Test accuracy: 0.967",
      "\n",
      "Epoch 1/1.. Train loss: 0.222.. Test loss: 0.048.. Test accuracy: 0.981",
      "\n",
      "Epoch 1/1.. Train loss: 0.121.. Test loss: 0.048.. Test accuracy: 0.982",
      "\n",
      "Epoch 1/1.. Train loss: 0.212.. Test loss: 0.074.. Test accuracy: 0.967",
      "\n",
      "Epoch 1/1.. Train loss: 0.158.. Test loss: 0.053.. Test accuracy: 0.982",
      "\n",
      "Epoch 1/1.. Train loss: 0.158.. Test loss: 0.046.. Test accuracy: 0.982",
      "\n",
      "Epoch 1/1.. Train loss: 0.143.. Test loss: 0.112.. Test accuracy: 0.955",
      "\n",
      "Epoch 1/1.. Train loss: 0.210.. Test loss: 0.060.. Test accuracy: 0.976",
      "\n",
      "Epoch 1/1.. Train loss: 0.140.. Test loss: 0.066.. Test accuracy: 0.971",
      "\n",
      "Epoch 1/1.. Train loss: 0.248.. Test loss: 0.047.. Test accuracy: 0.983",
      "\n",
      "Epoch 1/1.. Train loss: 0.184.. Test loss: 0.055.. Test accuracy: 0.982",
      "\n",
      "Epoch 1/1.. Train loss: 0.137.. Test loss: 0.052.. Test accuracy: 0.982",
      "\n",
      "Epoch 1/1.. Train loss: 0.162.. Test loss: 0.049.. Test accuracy: 0.982",
      "\n",
      "Epoch 1/1.. Train loss: 0.164.. Test loss: 0.101.. Test accuracy: 0.958",
      "\n",
      "Epoch 1/1.. Train loss: 0.217.. Test loss: 0.070.. Test accuracy: 0.973",
      "\n",
      "Epoch 1/1.. Train loss: 0.222.. Test loss: 0.052.. Test accuracy: 0.981",
      "\n",
      "Epoch 1/1.. Train loss: 0.161.. Test loss: 0.047.. Test accuracy: 0.984",
      "\n",
      "Epoch 1/1.. Train loss: 0.166.. Test loss: 0.058.. Test accuracy: 0.978",
      "\n",
      "Epoch 1/1.. Train loss: 0.210.. Test loss: 0.086.. Test accuracy: 0.963",
      "\n",
      "Epoch 1/1.. Train loss: 0.176.. Test loss: 0.050.. Test accuracy: 0.984",
      "\n",
      "Epoch 1/1.. Train loss: 0.150.. Test loss: 0.047.. Test accuracy: 0.984",
      "\n",
      "Epoch 1/1.. Train loss: 0.152.. Test loss: 0.072.. Test accuracy: 0.970",
      "\n",
      "Epoch 1/1.. Train loss: 0.242.. Test loss: 0.050.. Test accuracy: 0.982",
      "\n",
      "Epoch 1/1.. Train loss: 0.133.. Test loss: 0.073.. Test accuracy: 0.969",
      "\n",
      "Epoch 1/1.. Train loss: 0.159.. Test loss: 0.056.. Test accuracy: 0.979",
      "\n",
      "Epoch 1/1.. Train loss: 0.176.. Test loss: 0.049.. Test accuracy: 0.982",
      "\n",
      "Epoch 1/1.. Train loss: 0.204.. Test loss: 0.048.. Test accuracy: 0.982",
      "\n",
      "Epoch 1/1.. Train loss: 0.153.. Test loss: 0.047.. Test accuracy: 0.985",
      "\n",
      "Epoch 1/1.. Train loss: 0.160.. Test loss: 0.084.. Test accuracy: 0.965",
      "\n",
      "Epoch 1/1.. Train loss: 0.157.. Test loss: 0.046.. Test accuracy: 0.985",
      "\n",
      "Epoch 1/1.. Train loss: 0.151.. Test loss: 0.047.. Test accuracy: 0.982",
      "\n",
      "Epoch 1/1.. Train loss: 0.128.. Test loss: 0.044.. Test accuracy: 0.987",
      "\n",
      "Epoch 1/1.. Train loss: 0.129.. Test loss: 0.045.. Test accuracy: 0.983",
      "\n",
      "Epoch 1/1.. Train loss: 0.156.. Test loss: 0.045.. Test accuracy: 0.983",
      "\n",
      "Epoch 1/1.. Train loss: 0.142.. Test loss: 0.043.. Test accuracy: 0.985",
      "\n",
      "Epoch 1/1.. Train loss: 0.190.. Test loss: 0.057.. Test accuracy: 0.976",
      "\n",
      "Epoch 1/1.. Train loss: 0.159.. Test loss: 0.052.. Test accuracy: 0.981",
      "\n",
      "Epoch 1/1.. Train loss: 0.167.. Test loss: 0.054.. Test accuracy: 0.979",
      "\n",
      "Epoch 1/1.. Train loss: 0.131.. Test loss: 0.044.. Test accuracy: 0.985",
      "\n",
      "Epoch 1/1.. Train loss: 0.182.. Test loss: 0.045.. Test accuracy: 0.984",
      "\n",
      "Epoch 1/1.. Train loss: 0.113.. Test loss: 0.067.. Test accuracy: 0.972",
      "\n",
      "Epoch 1/1.. Train loss: 0.135.. Test loss: 0.048.. Test accuracy: 0.982",
      "\n",
      "Epoch 1/1.. Train loss: 0.140.. Test loss: 0.071.. Test accuracy: 0.971",
      "\n",
      "Epoch 1/1.. Train loss: 0.167.. Test loss: 0.040.. Test accuracy: 0.987",
      "\n",
      "Epoch 1/1.. Train loss: 0.105.. Test loss: 0.040.. Test accuracy: 0.988",
      "\n",
      "Epoch 1/1.. Train loss: 0.153.. Test loss: 0.045.. Test accuracy: 0.984",
      "\n",
      "Epoch 1/1.. Train loss: 0.181.. Test loss: 0.041.. Test accuracy: 0.986",
      "\n",
      "Epoch 1/1.. Train loss: 0.141.. Test loss: 0.042.. Test accuracy: 0.986",
      "\n",
      "Epoch 1/1.. Train loss: 0.145.. Test loss: 0.044.. Test accuracy: 0.984",
      "\n",
      "Epoch 1/1.. Train loss: 0.146.. Test loss: 0.042.. Test accuracy: 0.985",
      "\n",
      "Epoch 1/1.. Train loss: 0.148.. Test loss: 0.041.. Test accuracy: 0.985",
      "\n",
      "Epoch 1/1.. Train loss: 0.188.. Test loss: 0.076.. Test accuracy: 0.970",
      "\n",
      "Epoch 1/1.. Train loss: 0.173.. Test loss: 0.087.. Test accuracy: 0.964",
      "\n",
      "Epoch 1/1.. Train loss: 0.246.. Test loss: 0.067.. Test accuracy: 0.973",
      "\n",
      "Epoch 1/1.. Train loss: 0.190.. Test loss: 0.044.. Test accuracy: 0.985",
      "\n",
      "Epoch 1/1.. Train loss: 0.171.. Test loss: 0.053.. Test accuracy: 0.980",
      "\n"
     ],
     "output_type": "stream"
    }
   ],
   "source": [
    "epochs = 1\n",
    "steps = 0\n",
    "running_loss = 0\n",
    "print_every = 5\n",
    "\n",
    "for epoch in range(epochs):\n",
    "    for images, labels in trainloader:\n",
    "        steps += 1\n",
    "        \n",
    "        images, labels = images.to(device), labels.to(device)\n",
    "        \n",
    "        optimizer.zero_grad()\n",
    "        \n",
    "        logps = model(images)\n",
    "        loss = criterion(logps, labels)\n",
    "        loss.backward()\n",
    "        optimizer.step()\n",
    "        \n",
    "        running_loss += loss.item()\n",
    "        \n",
    "        if steps % print_every == 0:\n",
    "            model.eval()\n",
    "            test_loss = 0\n",
    "            accuracy = 0\n",
    "            \n",
    "            with torch.no_grad():\n",
    "                for images, labels in testloader:\n",
    "                    \n",
    "                    images, labels = images.to(device), labels.to(device)\n",
    "    \n",
    "                    logps = model(images)\n",
    "                    loss = criterion(logps, labels)\n",
    "                    test_loss += loss.item()\n",
    "                    \n",
    "                    ps = torch.exp(logps)\n",
    "                    top_ps, top_class = ps.topk(1, dim=1)\n",
    "                    equality = top_class == labels.view(*top_class.shape)\n",
    "                    accuracy += torch.mean(equality.type(torch.FloatTensor)).item()\n",
    "            \n",
    "            print(f\"Epoch {epoch+1}/{epochs}.. \"\n",
    "                  f\"Train loss: {running_loss/print_every:.3f}.. \"\n",
    "                  f\"Test loss: {test_loss/len(testloader):.3f}.. \"\n",
    "                  f\"Test accuracy: {accuracy/len(testloader):.3f}\")\n",
    "            \n",
    "            running_loss = 0\n",
    "            model.train()"
   ],
   "metadata": {
    "collapsed": false,
    "pycharm": {
     "name": "#%%\n",
     "is_executing": false
    }
   }
  },
  {
   "cell_type": "code",
   "execution_count": 27,
   "outputs": [
    {
     "traceback": [
      "\u001b[1;31m---------------------------------------------------------------------------\u001b[0m",
      "\u001b[1;31mTypeError\u001b[0m                                 Traceback (most recent call last)",
      "\u001b[1;32m<ipython-input-27-4e5bbf41aa3b>\u001b[0m in \u001b[0;36m<module>\u001b[1;34m\u001b[0m\n\u001b[0;32m     20\u001b[0m \u001b[1;33m\u001b[0m\u001b[0m\n\u001b[0;32m     21\u001b[0m \u001b[1;31m# Plot the image and probabilities\u001b[0m\u001b[1;33m\u001b[0m\u001b[1;33m\u001b[0m\u001b[1;33m\u001b[0m\u001b[0m\n\u001b[1;32m---> 22\u001b[1;33m \u001b[0mhelper\u001b[0m\u001b[1;33m.\u001b[0m\u001b[0mview_classify\u001b[0m\u001b[1;33m(\u001b[0m\u001b[0mimages\u001b[0m\u001b[1;33m[\u001b[0m\u001b[1;36m0\u001b[0m\u001b[1;33m]\u001b[0m\u001b[1;33m.\u001b[0m\u001b[0mview\u001b[0m\u001b[1;33m(\u001b[0m\u001b[1;36m3\u001b[0m\u001b[1;33m,\u001b[0m \u001b[1;36m224\u001b[0m\u001b[1;33m,\u001b[0m \u001b[1;36m224\u001b[0m\u001b[1;33m)\u001b[0m\u001b[1;33m,\u001b[0m \u001b[0mps\u001b[0m\u001b[1;33m,\u001b[0m \u001b[0mversion\u001b[0m\u001b[1;33m=\u001b[0m\u001b[1;34m'Fashion'\u001b[0m\u001b[1;33m)\u001b[0m\u001b[1;33m\u001b[0m\u001b[1;33m\u001b[0m\u001b[0m\n\u001b[0m",
      "\u001b[1;32m~Google Drive\\Study\\Online Courses\\Udacity\\Intro to Machine Learning Nanodegree\\code\\quizzes\\part-3-deep-learning\\lesson-04-deep-learning-with-pytorch\\helper.py\u001b[0m in \u001b[0;36mview_classify\u001b[1;34m(img, ps, version)\u001b[0m\n\u001b[0;32m     68\u001b[0m     ''' Function for viewing an image and it's predicted classes.\n\u001b[0;32m     69\u001b[0m     '''\n\u001b[1;32m---> 70\u001b[1;33m     \u001b[0mps\u001b[0m \u001b[1;33m=\u001b[0m \u001b[0mps\u001b[0m\u001b[1;33m.\u001b[0m\u001b[0mdata\u001b[0m\u001b[1;33m.\u001b[0m\u001b[0mnumpy\u001b[0m\u001b[1;33m(\u001b[0m\u001b[1;33m)\u001b[0m\u001b[1;33m.\u001b[0m\u001b[0msqueeze\u001b[0m\u001b[1;33m(\u001b[0m\u001b[1;33m)\u001b[0m\u001b[1;33m\u001b[0m\u001b[1;33m\u001b[0m\u001b[0m\n\u001b[0m\u001b[0;32m     71\u001b[0m \u001b[1;33m\u001b[0m\u001b[0m\n\u001b[0;32m     72\u001b[0m     \u001b[0mfig\u001b[0m\u001b[1;33m,\u001b[0m \u001b[1;33m(\u001b[0m\u001b[0max1\u001b[0m\u001b[1;33m,\u001b[0m \u001b[0max2\u001b[0m\u001b[1;33m)\u001b[0m \u001b[1;33m=\u001b[0m \u001b[0mplt\u001b[0m\u001b[1;33m.\u001b[0m\u001b[0msubplots\u001b[0m\u001b[1;33m(\u001b[0m\u001b[0mfigsize\u001b[0m\u001b[1;33m=\u001b[0m\u001b[1;33m(\u001b[0m\u001b[1;36m6\u001b[0m\u001b[1;33m,\u001b[0m\u001b[1;36m9\u001b[0m\u001b[1;33m)\u001b[0m\u001b[1;33m,\u001b[0m \u001b[0mncols\u001b[0m\u001b[1;33m=\u001b[0m\u001b[1;36m2\u001b[0m\u001b[1;33m)\u001b[0m\u001b[1;33m\u001b[0m\u001b[1;33m\u001b[0m\u001b[0m\n",
      "\u001b[1;31mTypeError\u001b[0m: can't convert CUDA tensor to numpy. Use Tensor.cpu() to copy the tensor to host memory first."
     ],
     "ename": "TypeError",
     "evalue": "can't convert CUDA tensor to numpy. Use Tensor.cpu() to copy the tensor to host memory first.",
     "output_type": "error"
    }
   ],
   "source": [],
   "metadata": {
    "collapsed": false,
    "pycharm": {
     "name": "#%%",
     "is_executing": false
    }
   }
  }
 ],
 "metadata": {
  "kernelspec": {
   "display_name": "Python 3",
   "language": "python",
   "name": "python3"
  },
  "language_info": {
   "codemirror_mode": {
    "name": "ipython",
    "version": 3
   },
   "file_extension": ".py",
   "mimetype": "text/x-python",
   "name": "python",
   "nbconvert_exporter": "python",
   "pygments_lexer": "ipython3",
   "version": "3.6.6"
  },
  "pycharm": {
   "stem_cell": {
    "cell_type": "raw",
    "source": [],
    "metadata": {
     "collapsed": false
    }
   }
  }
 },
 "nbformat": 4,
 "nbformat_minor": 2
}
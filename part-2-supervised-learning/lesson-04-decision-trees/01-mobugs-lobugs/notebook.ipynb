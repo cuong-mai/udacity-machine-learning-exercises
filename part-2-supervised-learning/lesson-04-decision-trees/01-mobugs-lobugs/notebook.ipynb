{
 "cells": [
  {
   "cell_type": "code",
   "execution_count": 59,
   "metadata": {
    "collapsed": true,
    "pycharm": {
     "is_executing": false
    }
   },
   "outputs": [],
   "source": [
    "import pandas as pd"
   ]
  },
  {
   "cell_type": "code",
   "execution_count": 60,
   "outputs": [
    {
     "data": {
      "text/plain": "   Species  Color  Length (mm)\n0    Mobug  Brown         11.6\n1    Mobug   Blue         16.3\n2    Lobug   Blue         15.1\n3    Lobug  Green         23.7\n4    Lobug   Blue         18.4\n5    Lobug  Brown         17.1\n6    Mobug  Brown         15.7\n7    Lobug  Green         18.6\n8    Lobug   Blue         22.9\n9    Lobug   Blue         21.0\n10   Lobug   Blue         20.5\n11   Mobug  Green         21.2\n12   Mobug  Brown         13.8\n13   Lobug   Blue         14.5\n14   Lobug  Green         24.8\n15   Mobug  Brown         18.2\n16   Lobug  Green         17.9\n17   Lobug  Green         22.7\n18   Mobug  Green         19.9\n19   Mobug   Blue         14.6\n20   Mobug   Blue         19.2\n21   Lobug  Brown         14.1\n22   Lobug  Green         18.8\n23   Mobug   Blue         13.1",
      "text/html": "<div>\n<style scoped>\n    .dataframe tbody tr th:only-of-type {\n        vertical-align: middle;\n    }\n\n    .dataframe tbody tr th {\n        vertical-align: top;\n    }\n\n    .dataframe thead th {\n        text-align: right;\n    }\n</style>\n<table border=\"1\" class=\"dataframe\">\n  <thead>\n    <tr style=\"text-align: right;\">\n      <th></th>\n      <th>Species</th>\n      <th>Color</th>\n      <th>Length (mm)</th>\n    </tr>\n  </thead>\n  <tbody>\n    <tr>\n      <th>0</th>\n      <td>Mobug</td>\n      <td>Brown</td>\n      <td>11.6</td>\n    </tr>\n    <tr>\n      <th>1</th>\n      <td>Mobug</td>\n      <td>Blue</td>\n      <td>16.3</td>\n    </tr>\n    <tr>\n      <th>2</th>\n      <td>Lobug</td>\n      <td>Blue</td>\n      <td>15.1</td>\n    </tr>\n    <tr>\n      <th>3</th>\n      <td>Lobug</td>\n      <td>Green</td>\n      <td>23.7</td>\n    </tr>\n    <tr>\n      <th>4</th>\n      <td>Lobug</td>\n      <td>Blue</td>\n      <td>18.4</td>\n    </tr>\n    <tr>\n      <th>5</th>\n      <td>Lobug</td>\n      <td>Brown</td>\n      <td>17.1</td>\n    </tr>\n    <tr>\n      <th>6</th>\n      <td>Mobug</td>\n      <td>Brown</td>\n      <td>15.7</td>\n    </tr>\n    <tr>\n      <th>7</th>\n      <td>Lobug</td>\n      <td>Green</td>\n      <td>18.6</td>\n    </tr>\n    <tr>\n      <th>8</th>\n      <td>Lobug</td>\n      <td>Blue</td>\n      <td>22.9</td>\n    </tr>\n    <tr>\n      <th>9</th>\n      <td>Lobug</td>\n      <td>Blue</td>\n      <td>21.0</td>\n    </tr>\n    <tr>\n      <th>10</th>\n      <td>Lobug</td>\n      <td>Blue</td>\n      <td>20.5</td>\n    </tr>\n    <tr>\n      <th>11</th>\n      <td>Mobug</td>\n      <td>Green</td>\n      <td>21.2</td>\n    </tr>\n    <tr>\n      <th>12</th>\n      <td>Mobug</td>\n      <td>Brown</td>\n      <td>13.8</td>\n    </tr>\n    <tr>\n      <th>13</th>\n      <td>Lobug</td>\n      <td>Blue</td>\n      <td>14.5</td>\n    </tr>\n    <tr>\n      <th>14</th>\n      <td>Lobug</td>\n      <td>Green</td>\n      <td>24.8</td>\n    </tr>\n    <tr>\n      <th>15</th>\n      <td>Mobug</td>\n      <td>Brown</td>\n      <td>18.2</td>\n    </tr>\n    <tr>\n      <th>16</th>\n      <td>Lobug</td>\n      <td>Green</td>\n      <td>17.9</td>\n    </tr>\n    <tr>\n      <th>17</th>\n      <td>Lobug</td>\n      <td>Green</td>\n      <td>22.7</td>\n    </tr>\n    <tr>\n      <th>18</th>\n      <td>Mobug</td>\n      <td>Green</td>\n      <td>19.9</td>\n    </tr>\n    <tr>\n      <th>19</th>\n      <td>Mobug</td>\n      <td>Blue</td>\n      <td>14.6</td>\n    </tr>\n    <tr>\n      <th>20</th>\n      <td>Mobug</td>\n      <td>Blue</td>\n      <td>19.2</td>\n    </tr>\n    <tr>\n      <th>21</th>\n      <td>Lobug</td>\n      <td>Brown</td>\n      <td>14.1</td>\n    </tr>\n    <tr>\n      <th>22</th>\n      <td>Lobug</td>\n      <td>Green</td>\n      <td>18.8</td>\n    </tr>\n    <tr>\n      <th>23</th>\n      <td>Mobug</td>\n      <td>Blue</td>\n      <td>13.1</td>\n    </tr>\n  </tbody>\n</table>\n</div>"
     },
     "metadata": {},
     "output_type": "execute_result",
     "execution_count": 60
    }
   ],
   "source": [
    "df = pd.read_csv(\"ml-bugs.csv\")\n",
    "df"
   ],
   "metadata": {
    "collapsed": false,
    "pycharm": {
     "name": "#%%\n",
     "is_executing": false
    }
   }
  },
  {
   "cell_type": "code",
   "execution_count": 61,
   "outputs": [
    {
     "name": "stdout",
     "text": [
      "10\n   Species  Color  Length (mm)\n0    Mobug  Brown         11.6\n1    Mobug   Blue         16.3\n6    Mobug  Brown         15.7\n11   Mobug  Green         21.2\n12   Mobug  Brown         13.8\n15   Mobug  Brown         18.2\n18   Mobug  Green         19.9\n19   Mobug   Blue         14.6\n20   Mobug   Blue         19.2\n23   Mobug   Blue         13.1\n"
     ],
     "output_type": "stream"
    }
   ],
   "source": [
    "df_mobug = df.loc[df['Species'] == 'Mobug']\n",
    "print(len(df_mobug))\n",
    "print(df_mobug)"
   ],
   "metadata": {
    "collapsed": false,
    "pycharm": {
     "name": "#%%\n",
     "is_executing": false
    }
   }
  },
  {
   "cell_type": "code",
   "execution_count": 62,
   "outputs": [
    {
     "name": "stdout",
     "text": [
      "14\n   Species  Color  Length (mm)\n2    Lobug   Blue         15.1\n3    Lobug  Green         23.7\n4    Lobug   Blue         18.4\n5    Lobug  Brown         17.1\n7    Lobug  Green         18.6\n8    Lobug   Blue         22.9\n9    Lobug   Blue         21.0\n10   Lobug   Blue         20.5\n13   Lobug   Blue         14.5\n14   Lobug  Green         24.8\n16   Lobug  Green         17.9\n17   Lobug  Green         22.7\n21   Lobug  Brown         14.1\n22   Lobug  Green         18.8\n"
     ],
     "output_type": "stream"
    }
   ],
   "source": [
    "df_lobug = df.loc[df['Species'] == 'Lobug']\n",
    "print(len(df_lobug))\n",
    "print(df_lobug)"
   ],
   "metadata": {
    "collapsed": false,
    "pycharm": {
     "name": "#%%\n",
     "is_executing": false
    }
   }
  },
  {
   "cell_type": "code",
   "execution_count": 63,
   "outputs": [
    {
     "name": "stdout",
     "text": [
      "4\n",
      "   Species  Color  Length (mm)\n0    Mobug  Brown         11.6\n6    Mobug  Brown         15.7\n12   Mobug  Brown         13.8\n15   Mobug  Brown         18.2\n"
     ],
     "output_type": "stream"
    }
   ],
   "source": [
    "df_mobug_brown = df_mobug.loc[df_mobug['Color'] == 'Brown']\n",
    "print(len(df_mobug_brown))\n",
    "print(df_mobug_brown)"
   ],
   "metadata": {
    "collapsed": false,
    "pycharm": {
     "name": "#%%\n",
     "is_executing": false
    }
   }
  },
  {
   "cell_type": "code",
   "execution_count": 64,
   "outputs": [
    {
     "name": "stdout",
     "text": [
      "2",
      "\n   Species  Color  Length (mm)\n5    Lobug  Brown         17.1\n21   Lobug  Brown         14.1\n"
     ],
     "output_type": "stream"
    }
   ],
   "source": [
    "df_lobug_brown = df_lobug.loc[df_lobug['Color'] == 'Brown']\n",
    "print(len(df_lobug_brown))\n",
    "print(df_lobug_brown)"
   ],
   "metadata": {
    "collapsed": false,
    "pycharm": {
     "name": "#%%\n",
     "is_executing": false
    }
   }
  },
  {
   "cell_type": "code",
   "execution_count": 65,
   "outputs": [
    {
     "name": "stdout",
     "text": [
      "6\n   Species  Color  Length (mm)\n1    Mobug   Blue         16.3\n11   Mobug  Green         21.2\n18   Mobug  Green         19.9\n19   Mobug   Blue         14.6\n20   Mobug   Blue         19.2\n23   Mobug   Blue         13.1\n"
     ],
     "output_type": "stream"
    }
   ],
   "source": [
    "df_mobug_not_brown = df_mobug.loc[df_mobug['Color'] != 'Brown']\n",
    "print(len(df_mobug_not_brown))\n",
    "print(df_mobug_not_brown)"
   ],
   "metadata": {
    "collapsed": false,
    "pycharm": {
     "name": "#%%\n",
     "is_executing": false
    }
   }
  },
  {
   "cell_type": "code",
   "execution_count": 66,
   "outputs": [
    {
     "name": "stdout",
     "text": [
      "6",
      "\n   Species  Color  Length (mm)\n1    Mobug   Blue         16.3\n11   Mobug  Green         21.2\n18   Mobug  Green         19.9\n19   Mobug   Blue         14.6\n20   Mobug   Blue         19.2\n23   Mobug   Blue         13.1\n"
     ],
     "output_type": "stream"
    }
   ],
   "source": [
    "df_lobug_not_brown = df_lobug.loc[df_lobug['Color'] != 'Brown']\n",
    "print(len(df_mobug_not_brown))\n",
    "print(df_mobug_not_brown)"
   ],
   "metadata": {
    "collapsed": false,
    "pycharm": {
     "name": "#%%\n",
     "is_executing": false
    }
   }
  },
  {
   "cell_type": "code",
   "execution_count": 67,
   "outputs": [
    {
     "name": "stdout",
     "text": [
      "4\n   Species Color  Length (mm)\n1    Mobug  Blue         16.3\n19   Mobug  Blue         14.6\n20   Mobug  Blue         19.2\n23   Mobug  Blue         13.1",
      "\n"
     ],
     "output_type": "stream"
    }
   ],
   "source": [
    "df_mobug_blue = df_mobug.loc[df_mobug['Color'] == 'Blue']\n",
    "print(len(df_mobug_blue))\n",
    "print(df_mobug_blue)"
   ],
   "metadata": {
    "collapsed": false,
    "pycharm": {
     "name": "#%%\n",
     "is_executing": false
    }
   }
  },
  {
   "cell_type": "code",
   "execution_count": 68,
   "outputs": [
    {
     "name": "stdout",
     "text": [
      "6\n   Species Color  Length (mm)\n2    Lobug  Blue         15.1\n4    Lobug  Blue         18.4\n8    Lobug  Blue         22.9\n9    Lobug  Blue         21.0\n10   Lobug  Blue         20.5\n13   Lobug  Blue         14.5\n"
     ],
     "output_type": "stream"
    }
   ],
   "source": [
    "df_lobug_blue = df_lobug.loc[df_lobug['Color'] == 'Blue']\n",
    "print(len(df_lobug_blue))\n",
    "print(df_lobug_blue)"
   ],
   "metadata": {
    "collapsed": false,
    "pycharm": {
     "name": "#%%\n",
     "is_executing": false
    }
   }
  },
  {
   "cell_type": "code",
   "execution_count": 69,
   "outputs": [
    {
     "name": "stdout",
     "text": [
      "2\n   Species  Color  Length (mm)\n11   Mobug  Green         21.2\n18   Mobug  Green         19.9\n"
     ],
     "output_type": "stream"
    }
   ],
   "source": [
    "df_mobug_green = df_mobug.loc[df_mobug['Color'] == 'Green']\n",
    "print(len(df_mobug_green))\n",
    "print(df_mobug_green)"
   ],
   "metadata": {
    "collapsed": false,
    "pycharm": {
     "name": "#%%\n",
     "is_executing": false
    }
   }
  },
  {
   "cell_type": "code",
   "execution_count": 70,
   "outputs": [
    {
     "name": "stdout",
     "text": [
      "6",
      "\n   Species  Color  Length (mm)\n3    Lobug  Green         23.7\n7    Lobug  Green         18.6\n14   Lobug  Green         24.8\n16   Lobug  Green         17.9\n17   Lobug  Green         22.7\n22   Lobug  Green         18.8\n"
     ],
     "output_type": "stream"
    }
   ],
   "source": [
    "df_lobug_green = df_lobug.loc[df_lobug['Color'] == 'Green']\n",
    "print(len(df_lobug_green))\n",
    "print(df_lobug_green)"
   ],
   "metadata": {
    "collapsed": false,
    "pycharm": {
     "name": "#%%\n",
     "is_executing": false
    }
   }
  },
  {
   "cell_type": "code",
   "execution_count": 71,
   "outputs": [
    {
     "name": "stdout",
     "text": [
      "6\n   Species  Color  Length (mm)\n0    Mobug  Brown         11.6\n1    Mobug   Blue         16.3\n6    Mobug  Brown         15.7\n12   Mobug  Brown         13.8\n19   Mobug   Blue         14.6\n23   Mobug   Blue         13.1",
      "\n"
     ],
     "output_type": "stream"
    }
   ],
   "source": [
    "df_mobug_length_less_than_17 = df_mobug.loc[df_mobug['Length (mm)'] < 17]\n",
    "print(len(df_mobug_length_less_than_17))\n",
    "print(df_mobug_length_less_than_17)"
   ],
   "metadata": {
    "collapsed": false,
    "pycharm": {
     "name": "#%%\n",
     "is_executing": false
    }
   }
  },
  {
   "cell_type": "code",
   "execution_count": 72,
   "outputs": [
    {
     "name": "stdout",
     "text": [
      "3",
      "\n   Species  Color  Length (mm)\n2    Lobug   Blue         15.1\n13   Lobug   Blue         14.5\n21   Lobug  Brown         14.1\n"
     ],
     "output_type": "stream"
    }
   ],
   "source": [
    "df_lobug_length_less_than_17 = df_lobug.loc[df_lobug['Length (mm)'] < 17]\n",
    "print(len(df_lobug_length_less_than_17))\n",
    "print(df_lobug_length_less_than_17)"
   ],
   "metadata": {
    "collapsed": false,
    "pycharm": {
     "name": "#%%\n",
     "is_executing": false
    }
   }
  },
  {
   "cell_type": "code",
   "execution_count": 73,
   "outputs": [
    {
     "name": "stdout",
     "text": [
      "9\n   Species  Color  Length (mm)\n0    Mobug  Brown         11.6\n1    Mobug   Blue         16.3\n6    Mobug  Brown         15.7\n12   Mobug  Brown         13.8\n15   Mobug  Brown         18.2\n18   Mobug  Green         19.9\n19   Mobug   Blue         14.6\n20   Mobug   Blue         19.2\n23   Mobug   Blue         13.1\n"
     ],
     "output_type": "stream"
    }
   ],
   "source": [
    "df_mobug_length_less_than_20 = df_mobug.loc[df_mobug['Length (mm)'] < 20]\n",
    "print(len(df_mobug_length_less_than_20))\n",
    "print(df_mobug_length_less_than_20)"
   ],
   "metadata": {
    "collapsed": false,
    "pycharm": {
     "name": "#%%\n",
     "is_executing": false
    }
   }
  },
  {
   "cell_type": "code",
   "execution_count": 74,
   "outputs": [
    {
     "name": "stdout",
     "text": [
      "8\n   Species  Color  Length (mm)\n2    Lobug   Blue         15.1\n4    Lobug   Blue         18.4\n5    Lobug  Brown         17.1\n7    Lobug  Green         18.6\n13   Lobug   Blue         14.5\n16   Lobug  Green         17.9\n21   Lobug  Brown         14.1\n22   Lobug  Green         18.8\n"
     ],
     "output_type": "stream"
    }
   ],
   "source": [
    "df_lobug_length_less_than_20 = df_lobug.loc[df_lobug['Length (mm)'] < 20]\n",
    "print(len(df_lobug_length_less_than_20))\n",
    "print(df_lobug_length_less_than_20)\n",
    "\n",
    "\n"
   ],
   "metadata": {
    "collapsed": false,
    "pycharm": {
     "name": "#%%\n",
     "is_executing": false
    }
   }
  }
 ],
 "metadata": {
  "language_info": {
   "codemirror_mode": {
    "name": "ipython",
    "version": 2
   },
   "file_extension": ".py",
   "mimetype": "text/x-python",
   "name": "python",
   "nbconvert_exporter": "python",
   "pygments_lexer": "ipython2",
   "version": "2.7.6"
  },
  "kernelspec": {
   "name": "python3",
   "language": "python",
   "display_name": "Python 3"
  },
  "pycharm": {
   "stem_cell": {
    "cell_type": "raw",
    "source": [],
    "metadata": {
     "collapsed": false
    }
   }
  }
 },
 "nbformat": 4,
 "nbformat_minor": 0
}